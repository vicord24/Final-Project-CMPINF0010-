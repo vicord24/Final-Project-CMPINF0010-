{
 "cells": [
  {
   "cell_type": "markdown",
   "metadata": {},
   "source": [
    "## Submetric 2: Arrest\n",
    "\n",
    "Level of crime within a community significantly impacting residents' sense of safety, property values.\n",
    "\n",
    "### **This is important!**\n",
    "1. Physical safety\n",
    "2. Mental health\n",
    "\n",
    "A low arrest rate generally indicates a safer neighborhood, vice versa high means less safe.\n"
   ]
  },
  {
   "cell_type": "code",
   "execution_count": null,
   "metadata": {},
   "outputs": [],
   "source": [
    "#Setup\n",
    "import pandas as pd\n",
    "import matplotlib.pyplot as plt\n",
    "data =\"Arrest.csv\""
   ]
  },
  {
   "cell_type": "code",
   "execution_count": null,
   "metadata": {},
   "outputs": [],
   "source": [
    "arrest = pd.read_csv(data)\n",
    "arrest.head()"
   ]
  },
  {
   "cell_type": "code",
   "execution_count": null,
   "metadata": {},
   "outputs": [],
   "source": [
    "row_count = arrest.shape[0]\n",
    "print ( f\"we have {row_count} arrest data here\")\n",
    "\n",
    "neighborhood = arrest.groupby(\"INCIDENTNEIGHBORHOOD\").size().reset_index(name=\"count\")\n",
    "neighborhood.sort_values(by='count', ascending=False).head(10)\n",
    "# where is highest"
   ]
  },
  {
   "cell_type": "code",
   "execution_count": null,
   "metadata": {},
   "outputs": [],
   "source": [
    "neighborhood.sort_values(by='count', ascending=True).head(10)\n",
    "# where is lowest"
   ]
  },
  {
   "cell_type": "markdown",
   "metadata": {},
   "source": [
    "As we can see, the Mt. Oliver neighborhood has only 2 arrest records within a dataset of 66,483 entries."
   ]
  },
  {
   "cell_type": "code",
   "execution_count": null,
   "metadata": {},
   "outputs": [],
   "source": [
    "neighborhood = neighborhood.sort_values(by='count', ascending=False)\n",
    "\n",
    "plt.figure(figsize=(15, 10))\n",
    "plt.bar(neighborhood['INCIDENTNEIGHBORHOOD'], neighborhood['count'])\n",
    "plt.xlabel('Neighborhood')\n",
    "plt.ylabel('Number of Arrests')\n",
    "plt.title('Number of Arrests by Neighborhood')\n",
    "plt.xticks(rotation=90)\n",
    "plt.show()\n"
   ]
  }
 ],
 "metadata": {
  "kernelspec": {
   "display_name": "Python 3",
   "language": "python",
   "name": "python3"
  },
  "language_info": {
   "codemirror_mode": {
    "name": "ipython",
    "version": 3
   },
   "file_extension": ".py",
   "mimetype": "text/x-python",
   "name": "python",
   "nbconvert_exporter": "python",
   "pygments_lexer": "ipython3",
   "version": "3.12.0"
  }
 },
 "nbformat": 4,
 "nbformat_minor": 2
}
